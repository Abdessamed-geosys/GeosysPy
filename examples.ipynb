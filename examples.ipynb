{
 "cells": [
  {
   "cell_type": "code",
   "execution_count": 1,
   "metadata": {},
   "outputs": [],
   "source": [
    "from pygeosys import geosys\n",
    "import os\n",
    "from dotenv import load_dotenv\n",
    "\n",
    "load_dotenv()\n",
    "\n",
    "API_CLIENT_ID = os.getenv('API_CLIENT_ID')\n",
    "API_CLIENT_SECRET = os.getenv('API_CLIENT_SECRET')\n",
    "API_USERNAME = os.getenv('API_USERNAME')\n",
    "API_PASSWORD = os.getenv('API_PASSWORD')\n",
    "\n",
    "c = geosys.geosys(API_CLIENT_ID, API_CLIENT_SECRET, API_USERNAME, API_PASSWORD)\n",
    "\n"
   ]
  },
  {
   "cell_type": "code",
   "execution_count": 2,
   "metadata": {},
   "outputs": [
    {
     "name": "stdout",
     "output_type": "stream",
     "text": [
      "200\n"
     ]
    },
    {
     "data": {
      "text/html": [
       "<div>\n",
       "<style scoped>\n",
       "    .dataframe tbody tr th:only-of-type {\n",
       "        vertical-align: middle;\n",
       "    }\n",
       "\n",
       "    .dataframe tbody tr th {\n",
       "        vertical-align: top;\n",
       "    }\n",
       "\n",
       "    .dataframe thead th {\n",
       "        text-align: right;\n",
       "    }\n",
       "</style>\n",
       "<table border=\"1\" class=\"dataframe\">\n",
       "  <thead>\n",
       "    <tr style=\"text-align: right;\">\n",
       "      <th></th>\n",
       "      <th>index</th>\n",
       "      <th>value</th>\n",
       "    </tr>\n",
       "    <tr>\n",
       "      <th>date</th>\n",
       "      <th></th>\n",
       "      <th></th>\n",
       "    </tr>\n",
       "  </thead>\n",
       "  <tbody>\n",
       "    <tr>\n",
       "      <th>2003-01-01</th>\n",
       "      <td>NDVI</td>\n",
       "      <td>0.163294</td>\n",
       "    </tr>\n",
       "    <tr>\n",
       "      <th>2003-01-02</th>\n",
       "      <td>NDVI</td>\n",
       "      <td>0.158552</td>\n",
       "    </tr>\n",
       "    <tr>\n",
       "      <th>2003-01-03</th>\n",
       "      <td>NDVI</td>\n",
       "      <td>0.153906</td>\n",
       "    </tr>\n",
       "    <tr>\n",
       "      <th>2003-01-04</th>\n",
       "      <td>NDVI</td>\n",
       "      <td>0.149337</td>\n",
       "    </tr>\n",
       "    <tr>\n",
       "      <th>2003-01-05</th>\n",
       "      <td>NDVI</td>\n",
       "      <td>0.144798</td>\n",
       "    </tr>\n",
       "    <tr>\n",
       "      <th>...</th>\n",
       "      <td>...</td>\n",
       "      <td>...</td>\n",
       "    </tr>\n",
       "    <tr>\n",
       "      <th>2008-06-18</th>\n",
       "      <td>NDVI</td>\n",
       "      <td>0.486549</td>\n",
       "    </tr>\n",
       "    <tr>\n",
       "      <th>2008-06-19</th>\n",
       "      <td>NDVI</td>\n",
       "      <td>0.483495</td>\n",
       "    </tr>\n",
       "    <tr>\n",
       "      <th>2008-06-20</th>\n",
       "      <td>NDVI</td>\n",
       "      <td>0.481160</td>\n",
       "    </tr>\n",
       "    <tr>\n",
       "      <th>2008-06-21</th>\n",
       "      <td>NDVI</td>\n",
       "      <td>0.479604</td>\n",
       "    </tr>\n",
       "    <tr>\n",
       "      <th>2008-06-22</th>\n",
       "      <td>NDVI</td>\n",
       "      <td>0.478858</td>\n",
       "    </tr>\n",
       "  </tbody>\n",
       "</table>\n",
       "<p>2000 rows × 2 columns</p>\n",
       "</div>"
      ],
      "text/plain": [
       "           index     value\n",
       "date                      \n",
       "2003-01-01  NDVI  0.163294\n",
       "2003-01-02  NDVI  0.158552\n",
       "2003-01-03  NDVI  0.153906\n",
       "2003-01-04  NDVI  0.149337\n",
       "2003-01-05  NDVI  0.144798\n",
       "...          ...       ...\n",
       "2008-06-18  NDVI  0.486549\n",
       "2008-06-19  NDVI  0.483495\n",
       "2008-06-20  NDVI  0.481160\n",
       "2008-06-21  NDVI  0.479604\n",
       "2008-06-22  NDVI  0.478858\n",
       "\n",
       "[2000 rows x 2 columns]"
      ]
     },
     "execution_count": 2,
     "metadata": {},
     "output_type": "execute_result"
    }
   ],
   "source": [
    "polygon = \"POLYGON((-91.17523978603823 40.29787117039518,-91.17577285022956 40.29199489606421,-91.167613719932 40.29199489606421,-91.1673028670095 40.29867040193312,-91.17523978603823 40.29787117039518))\"\n",
    "\n",
    "c.get_vts_time_series(polygon, \"NDVI\")"
   ]
  },
  {
   "cell_type": "code",
   "execution_count": null,
   "metadata": {},
   "outputs": [],
   "source": []
  }
 ],
 "metadata": {
  "interpreter": {
   "hash": "0372a3937da5da54a3bfdd53fff2df272fc2d59026be775ab1768d4a942ca61a"
  },
  "kernelspec": {
   "display_name": "Python 3.9.7 ('agp')",
   "language": "python",
   "name": "python3"
  },
  "language_info": {
   "codemirror_mode": {
    "name": "ipython",
    "version": 3
   },
   "file_extension": ".py",
   "mimetype": "text/x-python",
   "name": "python",
   "nbconvert_exporter": "python",
   "pygments_lexer": "ipython3",
   "version": "3.9.7"
  },
  "orig_nbformat": 4
 },
 "nbformat": 4,
 "nbformat_minor": 2
}
