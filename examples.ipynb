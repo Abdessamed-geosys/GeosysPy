{
 "cells": [
  {
   "cell_type": "code",
   "execution_count": null,
   "metadata": {},
   "outputs": [],
   "source": [
    "from geosyspy.geosys import Geosys\n",
    "\n",
    "import os\n",
    "from dotenv import load_dotenv\n",
    "import datetime as dt\n",
    "from dateutil.relativedelta import relativedelta\n",
    "import logging\n",
    "\n",
    "logger = logging.getLogger()\n",
    "logger.setLevel(logging.INFO)\n",
    "\n",
    "# read .env file\n",
    "load_dotenv()\n",
    "\n",
    "API_CLIENT_ID = os.getenv('API_CLIENT_ID')\n",
    "API_CLIENT_SECRET = os.getenv('API_CLIENT_SECRET')\n",
    "API_USERNAME = os.getenv('API_USERNAME')\n",
    "API_PASSWORD = os.getenv('API_PASSWORD')\n",
    "\n",
    "client = Geosys(API_CLIENT_ID, API_CLIENT_SECRET, API_USERNAME, API_PASSWORD, \"preprod\")\n",
    "\n",
    "polygon = \"POLYGON((-91.17523978603823 40.29787117039518,-91.17577285022956 40.29199489606421,-91.167613719932 40.29199489606421,-91.1673028670095 40.29867040193312,-91.17523978603823 40.29787117039518))\"\n",
    "today = dt.date.today()\n",
    "year_ago = dt.date.today() + relativedelta(months=-12)"
   ]
  },
  {
   "cell_type": "code",
   "execution_count": null,
   "metadata": {},
   "outputs": [],
   "source": [
    "client.get_time_series(polygon, year_ago, today, \"NDVI\")"
   ]
  },
  {
   "cell_type": "code",
   "execution_count": null,
   "metadata": {},
   "outputs": [],
   "source": [
    "client.get_time_series_by_pixel(polygon, year_ago, today, \"NDVI\")"
   ]
  },
  {
   "cell_type": "code",
   "execution_count": null,
   "metadata": {},
   "outputs": [],
   "source": [
    "client.get_coverage_in_season_ndvi(polygon, year_ago, today, \"SENTINEL_2\")"
   ]
  },
  {
   "cell_type": "code",
   "execution_count": null,
   "metadata": {},
   "outputs": [],
   "source": [
    "client.download_image(\"d1bqwqq\", \"IKc73hpUQ6spGyDC80dOd8SDFIKHF1CezmxsZGmXlzg\")\n"
   ]
  },
  {
   "cell_type": "code",
   "execution_count": null,
   "metadata": {},
   "outputs": [],
   "source": [
    "client.get_image_as_array(\"d1bqwqq\", \"IKc73hpUQ6spGyDC80dOd8SDFIKHF1CezmxsZGmXlzg\")"
   ]
  },
  {
   "cell_type": "code",
   "execution_count": null,
   "metadata": {},
   "outputs": [],
   "source": [
    "#Forecast daily\n",
    "fields = ['Precipitation', 'Temperature','Date']\n",
    "point = \"POINT (0.0872845021171696 43.69457564315705)\"\n",
    "client.get_weather(point, dt.date.today(), dt.date.today() + relativedelta(days=+5), \"FORECAST_DAILY\", fields)"
   ]
  },
  {
   "cell_type": "code",
   "execution_count": null,
   "metadata": {},
   "outputs": [],
   "source": [
    "#Forecast hourly\n",
    "fields = ['Precipitation', 'Temperature']\n",
    "point = \"POINT (0.0872845021171696 43.69457564315705)\"\n",
    "client.get_weather(point, dt.date.today(), dt.date.today() + relativedelta(days=+2), \"FORECAST_HOURLY\", fields)"
   ]
  },
  {
   "cell_type": "code",
   "execution_count": null,
   "metadata": {},
   "outputs": [],
   "source": [
    "# Historical daily\n",
    "fields = ['Precipitation', 'Temperature']\n",
    "start_date = dt.datetime.strptime(\"2022-01-01\", \"%Y-%m-%d\")\n",
    "end_date = dt.datetime.strptime(\"2022-02-01\", \"%Y-%m-%d\")\n",
    "client.get_weather(polygon, start_date, end_date, \"HISTORICAL_DAILY\", fields)"
   ]
  }
 ],
 "metadata": {
  "interpreter": {
   "hash": "0372a3937da5da54a3bfdd53fff2df272fc2d59026be775ab1768d4a942ca61a"
  },
  "kernelspec": {
   "display_name": "Python 3.9.7 ('agp')",
   "language": "python",
   "name": "python3"
  },
  "language_info": {
   "codemirror_mode": {
    "name": "ipython",
    "version": 3
   },
   "file_extension": ".py",
   "mimetype": "text/x-python",
   "name": "python",
   "nbconvert_exporter": "python",
   "pygments_lexer": "ipython3",
   "version": "3.10.2"
  },
  "orig_nbformat": 4
 },
 "nbformat": 4,
 "nbformat_minor": 2
}
