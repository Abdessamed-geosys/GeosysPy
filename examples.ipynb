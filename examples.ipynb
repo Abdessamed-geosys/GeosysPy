{
 "cells": [
  {
   "cell_type": "code",
   "execution_count": null,
   "metadata": {},
   "outputs": [],
   "source": [
    "from pygeosys.geosys import Geosys\n",
    "import os\n",
    "from dotenv import load_dotenv\n",
    "import datetime as dt\n",
    "from dateutil.relativedelta import relativedelta\n",
    "import logging\n",
    "\n",
    "logger = logging.getLogger()\n",
    "logger.setLevel(logging.INFO)\n",
    "\n",
    "# read .env file\n",
    "load_dotenv()\n",
    "\n",
    "API_CLIENT_ID = os.getenv('API_CLIENT_ID')\n",
    "API_CLIENT_SECRET = os.getenv('API_CLIENT_SECRET')\n",
    "API_USERNAME = os.getenv('API_USERNAME')\n",
    "API_PASSWORD = os.getenv('API_PASSWORD')\n",
    "\n",
    "client = Geosys(API_CLIENT_ID, API_CLIENT_SECRET, API_USERNAME, API_PASSWORD)"
   ]
  },
  {
   "cell_type": "code",
   "execution_count": null,
   "metadata": {},
   "outputs": [],
   "source": [
    "polygon = \"POLYGON((-91.17523978603823 40.29787117039518,-91.17577285022956 40.29199489606421,-91.167613719932 40.29199489606421,-91.1673028670095 40.29867040193312,-91.17523978603823 40.29787117039518))\"\n",
    "\n",
    "today = dt.date.today()\n",
    "year_ago = dt.date.today() + relativedelta(months=-12)\n",
    "\n",
    "client.get_time_series(polygon, year_ago, today, \"NDVI\")\n"
   ]
  },
  {
   "cell_type": "code",
   "execution_count": null,
   "metadata": {},
   "outputs": [],
   "source": [
    "client.get_time_series_by_pixel(polygon, year_ago, today, \"NDVI\")"
   ]
  },
  {
   "cell_type": "code",
   "execution_count": null,
   "metadata": {},
   "outputs": [],
   "source": []
  }
 ],
 "metadata": {
  "interpreter": {
   "hash": "0372a3937da5da54a3bfdd53fff2df272fc2d59026be775ab1768d4a942ca61a"
  },
  "kernelspec": {
   "display_name": "Python 3.9.7 ('agp')",
   "language": "python",
   "name": "python3"
  },
  "language_info": {
   "codemirror_mode": {
    "name": "ipython",
    "version": 3
   },
   "file_extension": ".py",
   "mimetype": "text/x-python",
   "name": "python",
   "nbconvert_exporter": "python",
   "pygments_lexer": "ipython3",
   "version": "3.9.7"
  },
  "orig_nbformat": 4
 },
 "nbformat": 4,
 "nbformat_minor": 2
}
